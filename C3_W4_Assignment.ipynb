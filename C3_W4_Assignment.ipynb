{
  "nbformat": 4,
  "nbformat_minor": 0,
  "metadata": {
    "accelerator": "GPU",
    "colab": {
      "name": "C3_W4_Assignment.ipynb",
      "provenance": []
    },
    "kernelspec": {
      "display_name": "Python 3",
      "language": "python",
      "name": "python3"
    },
    "language_info": {
      "codemirror_mode": {
        "name": "ipython",
        "version": 3
      },
      "file_extension": ".py",
      "mimetype": "text/x-python",
      "name": "python",
      "nbconvert_exporter": "python",
      "pygments_lexer": "ipython3",
      "version": "3.8.5"
    }
  },
  "cells": [
    {
      "cell_type": "code",
      "metadata": {
        "id": "T2XpcPvbXalN"
      },
      "source": [
        "#@title Licensed under the Apache License, Version 2.0 (the \"License\");\n",
        "# you may not use this file except in compliance with the License.\n",
        "# You may obtain a copy of the License at\n",
        "#\n",
        "# https://www.apache.org/licenses/LICENSE-2.0\n",
        "#\n",
        "# Unless required by applicable law or agreed to in writing, software\n",
        "# distributed under the License is distributed on an \"AS IS\" BASIS,\n",
        "# WITHOUT WARRANTIES OR CONDITIONS OF ANY KIND, either express or implied.\n",
        "# See the License for the specific language governing permissions and\n",
        "# limitations under the License."
      ],
      "execution_count": null,
      "outputs": []
    },
    {
      "cell_type": "markdown",
      "metadata": {
        "id": "eK88h3Y5XalO"
      },
      "source": [
        "**Note:** This notebook can run using TensorFlow 2.5.0"
      ]
    },
    {
      "cell_type": "code",
      "metadata": {
        "id": "zX4Kg8DUTKWO"
      },
      "source": [
        "#!pip install tensorflow==2.5.0"
      ],
      "execution_count": 1,
      "outputs": []
    },
    {
      "cell_type": "code",
      "metadata": {
        "id": "BOwsuGQQY9OL"
      },
      "source": [
        "from tensorflow.keras.preprocessing.sequence import pad_sequences\n",
        "from tensorflow.keras.layers import Embedding, LSTM, Dense, Dropout, Bidirectional\n",
        "from tensorflow.keras.preprocessing.text import Tokenizer\n",
        "from tensorflow.keras.models import Sequential\n",
        "from tensorflow.keras.optimizers import Adam\n",
        "### YOUR CODE HERE\n",
        "from tensorflow.keras import regularizers\n",
        "# Figure out how to import regularizers\n",
        "###\n",
        "import tensorflow.keras.utils as ku \n",
        "import numpy as np "
      ],
      "execution_count": 2,
      "outputs": []
    },
    {
      "cell_type": "code",
      "metadata": {
        "id": "PRnDnCW-Z7qv",
        "outputId": "0f519d77-22cd-46e9-ffbe-b8e84ab6b37c",
        "colab": {
          "base_uri": "https://localhost:8080/"
        }
      },
      "source": [
        "tokenizer = Tokenizer()\n",
        "\n",
        "# sonnets.txt\n",
        "!gdown --id 108jAePKK4R3BVYBbYJZ32JWUwxeMg20K\n",
        "\n",
        "data = open('./sonnets.txt').read()\n",
        "\n",
        "corpus = data.lower().split(\"\\n\")\n",
        "\n",
        "\n",
        "tokenizer.fit_on_texts(corpus)\n",
        "total_words = len(tokenizer.word_index) + 1\n",
        "\n",
        "# create input sequences using list of tokens\n",
        "input_sequences = []\n",
        "for line in corpus:\n",
        "\ttoken_list = tokenizer.texts_to_sequences([line])[0]\n",
        "\tfor i in range(1, len(token_list)):\n",
        "\t\tn_gram_sequence = token_list[:i+1]\n",
        "\t\tinput_sequences.append(n_gram_sequence)\n",
        "\n",
        "\n",
        "# pad sequences \n",
        "max_sequence_len = max([len(x) for x in input_sequences])\n",
        "input_sequences = np.array(pad_sequences(input_sequences, maxlen=max_sequence_len, padding='pre'))\n",
        "\n",
        "# create predictors and label\n",
        "predictors, label = input_sequences[:,:-1],input_sequences[:,-1]\n",
        "\n",
        "label = ku.to_categorical(label, num_classes=total_words)"
      ],
      "execution_count": 3,
      "outputs": [
        {
          "output_type": "stream",
          "name": "stdout",
          "text": [
            "Downloading...\n",
            "From: https://drive.google.com/uc?id=108jAePKK4R3BVYBbYJZ32JWUwxeMg20K\n",
            "To: /content/sonnets.txt\n",
            "\r  0% 0.00/93.6k [00:00<?, ?B/s]\r100% 93.6k/93.6k [00:00<00:00, 36.6MB/s]\n"
          ]
        }
      ]
    },
    {
      "cell_type": "code",
      "source": [
        "print(total_words)"
      ],
      "metadata": {
        "id": "8U90R33o-g_i",
        "outputId": "63ebcb01-ca24-4fde-f3fb-2b8db3f1ae15",
        "colab": {
          "base_uri": "https://localhost:8080/"
        }
      },
      "execution_count": 8,
      "outputs": [
        {
          "output_type": "stream",
          "name": "stdout",
          "text": [
            "3211\n"
          ]
        }
      ]
    },
    {
      "cell_type": "code",
      "metadata": {
        "id": "w9vH8Y59ajYL",
        "outputId": "d17d77ab-47b5-45fe-d70b-e18171bfd1b2",
        "colab": {
          "base_uri": "https://localhost:8080/"
        }
      },
      "source": [
        "### START CODE HERE\n",
        "model = Sequential()\n",
        "model.add(Embedding(total_words, 100, input_length = max_sequence_len-1))# Your Embedding Layer)\n",
        "model.add(Bidirectional(LSTM(150, return_sequences = True)))# An LSTM Layer)\n",
        "model.add(Dropout(0.2))# A dropout layer)\n",
        "model.add(LSTM(100))# Another LSTM Layer)\n",
        "model.add(Dense(total_words/2, activation = 'relu', kernel_regularizer = regularizers.l2(0.01))) # A Dense Layer including regularizers)\n",
        "model.add(Dense(total_words, activation = 'softmax'))# A Dense Layer)\n",
        "# Pick an optimizer\n",
        "model.compile(loss = 'categorical_crossentropy', optimizer = 'adam', metrics = ['accuracy']) # Pick a loss function and an optimizer)\n",
        "### END CODE HERE\n",
        "    \n",
        "print(model.summary())"
      ],
      "execution_count": 6,
      "outputs": [
        {
          "output_type": "stream",
          "name": "stdout",
          "text": [
            "Model: \"sequential_1\"\n",
            "_________________________________________________________________\n",
            " Layer (type)                Output Shape              Param #   \n",
            "=================================================================\n",
            " embedding_1 (Embedding)     (None, 10, 100)           321100    \n",
            "                                                                 \n",
            " bidirectional_1 (Bidirectio  (None, 10, 300)          301200    \n",
            " nal)                                                            \n",
            "                                                                 \n",
            " dropout_1 (Dropout)         (None, 10, 300)           0         \n",
            "                                                                 \n",
            " lstm_3 (LSTM)               (None, 100)               160400    \n",
            "                                                                 \n",
            " dense (Dense)               (None, 1605)              162105    \n",
            "                                                                 \n",
            " dense_1 (Dense)             (None, 3211)              5156866   \n",
            "                                                                 \n",
            "=================================================================\n",
            "Total params: 6,101,671\n",
            "Trainable params: 6,101,671\n",
            "Non-trainable params: 0\n",
            "_________________________________________________________________\n",
            "None\n"
          ]
        }
      ]
    },
    {
      "cell_type": "code",
      "metadata": {
        "id": "AIg2f1HBxqof",
        "outputId": "cdd13928-c69d-458b-c1ca-f4c914882356",
        "colab": {
          "base_uri": "https://localhost:8080/"
        }
      },
      "source": [
        " history = model.fit(predictors, label, epochs=100, verbose=1)"
      ],
      "execution_count": 7,
      "outputs": [
        {
          "output_type": "stream",
          "name": "stdout",
          "text": [
            "Epoch 1/100\n",
            "484/484 [==============================] - 21s 26ms/step - loss: 6.9071 - accuracy: 0.0200\n",
            "Epoch 2/100\n",
            "484/484 [==============================] - 12s 26ms/step - loss: 6.5026 - accuracy: 0.0209\n",
            "Epoch 3/100\n",
            "484/484 [==============================] - 12s 26ms/step - loss: 6.3980 - accuracy: 0.0261\n",
            "Epoch 4/100\n",
            "484/484 [==============================] - 12s 26ms/step - loss: 6.2644 - accuracy: 0.0308\n",
            "Epoch 5/100\n",
            "484/484 [==============================] - 12s 25ms/step - loss: 6.1680 - accuracy: 0.0387\n",
            "Epoch 6/100\n",
            "484/484 [==============================] - 12s 25ms/step - loss: 6.0850 - accuracy: 0.0390\n",
            "Epoch 7/100\n",
            "484/484 [==============================] - 12s 26ms/step - loss: 6.0079 - accuracy: 0.0431\n",
            "Epoch 8/100\n",
            "484/484 [==============================] - 12s 25ms/step - loss: 5.9060 - accuracy: 0.0488\n",
            "Epoch 9/100\n",
            "484/484 [==============================] - 12s 26ms/step - loss: 5.7952 - accuracy: 0.0567\n",
            "Epoch 10/100\n",
            "484/484 [==============================] - 12s 26ms/step - loss: 5.6896 - accuracy: 0.0609\n",
            "Epoch 11/100\n",
            "484/484 [==============================] - 12s 25ms/step - loss: 5.5821 - accuracy: 0.0675\n",
            "Epoch 12/100\n",
            "484/484 [==============================] - 12s 25ms/step - loss: 5.4834 - accuracy: 0.0702\n",
            "Epoch 13/100\n",
            "484/484 [==============================] - 12s 25ms/step - loss: 5.3851 - accuracy: 0.0805\n",
            "Epoch 14/100\n",
            "484/484 [==============================] - 12s 26ms/step - loss: 5.2886 - accuracy: 0.0865\n",
            "Epoch 15/100\n",
            "484/484 [==============================] - 12s 25ms/step - loss: 5.1910 - accuracy: 0.0920\n",
            "Epoch 16/100\n",
            "484/484 [==============================] - 12s 26ms/step - loss: 5.0886 - accuracy: 0.0988\n",
            "Epoch 17/100\n",
            "484/484 [==============================] - 12s 25ms/step - loss: 4.9912 - accuracy: 0.1072\n",
            "Epoch 18/100\n",
            "484/484 [==============================] - 12s 25ms/step - loss: 4.8937 - accuracy: 0.1128\n",
            "Epoch 19/100\n",
            "484/484 [==============================] - 12s 25ms/step - loss: 4.7943 - accuracy: 0.1247\n",
            "Epoch 20/100\n",
            "484/484 [==============================] - 12s 26ms/step - loss: 4.6945 - accuracy: 0.1312\n",
            "Epoch 21/100\n",
            "484/484 [==============================] - 12s 26ms/step - loss: 4.5922 - accuracy: 0.1392\n",
            "Epoch 22/100\n",
            "484/484 [==============================] - 12s 25ms/step - loss: 4.4956 - accuracy: 0.1522\n",
            "Epoch 23/100\n",
            "484/484 [==============================] - 12s 25ms/step - loss: 4.4025 - accuracy: 0.1636\n",
            "Epoch 24/100\n",
            "484/484 [==============================] - 12s 25ms/step - loss: 4.3010 - accuracy: 0.1760\n",
            "Epoch 25/100\n",
            "484/484 [==============================] - 12s 24ms/step - loss: 4.1971 - accuracy: 0.1903\n",
            "Epoch 26/100\n",
            "484/484 [==============================] - 12s 24ms/step - loss: 4.0990 - accuracy: 0.2082\n",
            "Epoch 27/100\n",
            "484/484 [==============================] - 12s 25ms/step - loss: 4.0020 - accuracy: 0.2147\n",
            "Epoch 28/100\n",
            "484/484 [==============================] - 12s 25ms/step - loss: 3.9119 - accuracy: 0.2284\n",
            "Epoch 29/100\n",
            "484/484 [==============================] - 12s 25ms/step - loss: 3.8153 - accuracy: 0.2470\n",
            "Epoch 30/100\n",
            "484/484 [==============================] - 12s 25ms/step - loss: 3.7158 - accuracy: 0.2643\n",
            "Epoch 31/100\n",
            "484/484 [==============================] - 12s 25ms/step - loss: 3.6198 - accuracy: 0.2803\n",
            "Epoch 32/100\n",
            "484/484 [==============================] - 12s 25ms/step - loss: 3.5315 - accuracy: 0.2996\n",
            "Epoch 33/100\n",
            "484/484 [==============================] - 12s 25ms/step - loss: 3.4421 - accuracy: 0.3151\n",
            "Epoch 34/100\n",
            "484/484 [==============================] - 12s 25ms/step - loss: 3.3446 - accuracy: 0.3368\n",
            "Epoch 35/100\n",
            "484/484 [==============================] - 12s 24ms/step - loss: 3.2662 - accuracy: 0.3559\n",
            "Epoch 36/100\n",
            "484/484 [==============================] - 12s 25ms/step - loss: 3.1784 - accuracy: 0.3760\n",
            "Epoch 37/100\n",
            "484/484 [==============================] - 12s 25ms/step - loss: 3.1073 - accuracy: 0.3886\n",
            "Epoch 38/100\n",
            "484/484 [==============================] - 12s 24ms/step - loss: 3.0271 - accuracy: 0.4072\n",
            "Epoch 39/100\n",
            "484/484 [==============================] - 12s 25ms/step - loss: 2.9603 - accuracy: 0.4277\n",
            "Epoch 40/100\n",
            "484/484 [==============================] - 12s 25ms/step - loss: 2.8819 - accuracy: 0.4435\n",
            "Epoch 41/100\n",
            "484/484 [==============================] - 12s 25ms/step - loss: 2.8168 - accuracy: 0.4556\n",
            "Epoch 42/100\n",
            "484/484 [==============================] - 12s 24ms/step - loss: 2.7488 - accuracy: 0.4737\n",
            "Epoch 43/100\n",
            "484/484 [==============================] - 12s 24ms/step - loss: 2.6770 - accuracy: 0.4927\n",
            "Epoch 44/100\n",
            "484/484 [==============================] - 12s 24ms/step - loss: 2.6273 - accuracy: 0.5037\n",
            "Epoch 45/100\n",
            "484/484 [==============================] - 12s 24ms/step - loss: 2.5544 - accuracy: 0.5177\n",
            "Epoch 46/100\n",
            "484/484 [==============================] - 12s 24ms/step - loss: 2.5084 - accuracy: 0.5288\n",
            "Epoch 47/100\n",
            "484/484 [==============================] - 12s 24ms/step - loss: 2.4619 - accuracy: 0.5402\n",
            "Epoch 48/100\n",
            "484/484 [==============================] - 12s 24ms/step - loss: 2.4042 - accuracy: 0.5490\n",
            "Epoch 49/100\n",
            "484/484 [==============================] - 12s 24ms/step - loss: 2.3458 - accuracy: 0.5625\n",
            "Epoch 50/100\n",
            "484/484 [==============================] - 12s 24ms/step - loss: 2.2993 - accuracy: 0.5730\n",
            "Epoch 51/100\n",
            "484/484 [==============================] - 12s 24ms/step - loss: 2.2427 - accuracy: 0.5870\n",
            "Epoch 52/100\n",
            "484/484 [==============================] - 12s 24ms/step - loss: 2.2164 - accuracy: 0.5958\n",
            "Epoch 53/100\n",
            "484/484 [==============================] - 12s 24ms/step - loss: 2.1608 - accuracy: 0.6038\n",
            "Epoch 54/100\n",
            "484/484 [==============================] - 12s 24ms/step - loss: 2.1213 - accuracy: 0.6109\n",
            "Epoch 55/100\n",
            "484/484 [==============================] - 12s 24ms/step - loss: 2.0775 - accuracy: 0.6217\n",
            "Epoch 56/100\n",
            "484/484 [==============================] - 12s 24ms/step - loss: 2.0371 - accuracy: 0.6337\n",
            "Epoch 57/100\n",
            "484/484 [==============================] - 12s 24ms/step - loss: 2.0001 - accuracy: 0.6434\n",
            "Epoch 58/100\n",
            "484/484 [==============================] - 12s 24ms/step - loss: 1.9575 - accuracy: 0.6499\n",
            "Epoch 59/100\n",
            "484/484 [==============================] - 11s 24ms/step - loss: 1.9173 - accuracy: 0.6572\n",
            "Epoch 60/100\n",
            "484/484 [==============================] - 11s 24ms/step - loss: 1.8981 - accuracy: 0.6613\n",
            "Epoch 61/100\n",
            "484/484 [==============================] - 11s 24ms/step - loss: 1.8512 - accuracy: 0.6706\n",
            "Epoch 62/100\n",
            "484/484 [==============================] - 11s 23ms/step - loss: 1.8340 - accuracy: 0.6759\n",
            "Epoch 63/100\n",
            "484/484 [==============================] - 11s 23ms/step - loss: 1.7990 - accuracy: 0.6828\n",
            "Epoch 64/100\n",
            "484/484 [==============================] - 11s 23ms/step - loss: 1.7582 - accuracy: 0.6956\n",
            "Epoch 65/100\n",
            "484/484 [==============================] - 11s 23ms/step - loss: 1.7335 - accuracy: 0.6981\n",
            "Epoch 66/100\n",
            "484/484 [==============================] - 11s 23ms/step - loss: 1.7052 - accuracy: 0.7010\n",
            "Epoch 67/100\n",
            "484/484 [==============================] - 11s 23ms/step - loss: 1.6877 - accuracy: 0.7040\n",
            "Epoch 68/100\n",
            "484/484 [==============================] - 11s 23ms/step - loss: 1.6511 - accuracy: 0.7132\n",
            "Epoch 69/100\n",
            "484/484 [==============================] - 11s 24ms/step - loss: 1.6343 - accuracy: 0.7145\n",
            "Epoch 70/100\n",
            "484/484 [==============================] - 11s 23ms/step - loss: 1.6047 - accuracy: 0.7244\n",
            "Epoch 71/100\n",
            "484/484 [==============================] - 11s 23ms/step - loss: 1.5935 - accuracy: 0.7230\n",
            "Epoch 72/100\n",
            "484/484 [==============================] - 11s 23ms/step - loss: 1.5590 - accuracy: 0.7317\n",
            "Epoch 73/100\n",
            "484/484 [==============================] - 11s 24ms/step - loss: 1.5450 - accuracy: 0.7316\n",
            "Epoch 74/100\n",
            "484/484 [==============================] - 11s 24ms/step - loss: 1.5103 - accuracy: 0.7405\n",
            "Epoch 75/100\n",
            "484/484 [==============================] - 11s 24ms/step - loss: 1.5128 - accuracy: 0.7351\n",
            "Epoch 76/100\n",
            "484/484 [==============================] - 11s 23ms/step - loss: 1.4819 - accuracy: 0.7459\n",
            "Epoch 77/100\n",
            "484/484 [==============================] - 11s 23ms/step - loss: 1.4452 - accuracy: 0.7553\n",
            "Epoch 78/100\n",
            "484/484 [==============================] - 11s 23ms/step - loss: 1.4360 - accuracy: 0.7526\n",
            "Epoch 79/100\n",
            "484/484 [==============================] - 11s 23ms/step - loss: 1.4185 - accuracy: 0.7551\n",
            "Epoch 80/100\n",
            "484/484 [==============================] - 11s 23ms/step - loss: 1.3977 - accuracy: 0.7644\n",
            "Epoch 81/100\n",
            "484/484 [==============================] - 11s 24ms/step - loss: 1.3863 - accuracy: 0.7626\n",
            "Epoch 82/100\n",
            "484/484 [==============================] - 11s 23ms/step - loss: 1.3694 - accuracy: 0.7646\n",
            "Epoch 83/100\n",
            "484/484 [==============================] - 11s 24ms/step - loss: 1.3517 - accuracy: 0.7668\n",
            "Epoch 84/100\n",
            "484/484 [==============================] - 11s 23ms/step - loss: 1.3415 - accuracy: 0.7690\n",
            "Epoch 85/100\n",
            "484/484 [==============================] - 11s 23ms/step - loss: 1.3261 - accuracy: 0.7736\n",
            "Epoch 86/100\n",
            "484/484 [==============================] - 11s 23ms/step - loss: 1.3095 - accuracy: 0.7771\n",
            "Epoch 87/100\n",
            "484/484 [==============================] - 11s 24ms/step - loss: 1.3024 - accuracy: 0.7765\n",
            "Epoch 88/100\n",
            "484/484 [==============================] - 11s 24ms/step - loss: 1.2959 - accuracy: 0.7758\n",
            "Epoch 89/100\n",
            "484/484 [==============================] - 11s 24ms/step - loss: 1.2656 - accuracy: 0.7851\n",
            "Epoch 90/100\n",
            "484/484 [==============================] - 11s 24ms/step - loss: 1.2483 - accuracy: 0.7853\n",
            "Epoch 91/100\n",
            "484/484 [==============================] - 12s 24ms/step - loss: 1.2354 - accuracy: 0.7866\n",
            "Epoch 92/100\n",
            "484/484 [==============================] - 12s 24ms/step - loss: 1.2424 - accuracy: 0.7846\n",
            "Epoch 93/100\n",
            "484/484 [==============================] - 11s 24ms/step - loss: 1.2286 - accuracy: 0.7893\n",
            "Epoch 94/100\n",
            "484/484 [==============================] - 11s 24ms/step - loss: 1.2169 - accuracy: 0.7906\n",
            "Epoch 95/100\n",
            "484/484 [==============================] - 11s 24ms/step - loss: 1.2004 - accuracy: 0.7915\n",
            "Epoch 96/100\n",
            "484/484 [==============================] - 11s 24ms/step - loss: 1.2013 - accuracy: 0.7926\n",
            "Epoch 97/100\n",
            "484/484 [==============================] - 11s 24ms/step - loss: 1.1801 - accuracy: 0.7994\n",
            "Epoch 98/100\n",
            "484/484 [==============================] - 11s 24ms/step - loss: 1.1670 - accuracy: 0.7994\n",
            "Epoch 99/100\n",
            "484/484 [==============================] - 11s 24ms/step - loss: 1.1711 - accuracy: 0.7983\n",
            "Epoch 100/100\n",
            "484/484 [==============================] - 11s 23ms/step - loss: 1.1493 - accuracy: 0.8015\n"
          ]
        }
      ]
    },
    {
      "cell_type": "code",
      "metadata": {
        "id": "1fXTEO3GJ282",
        "outputId": "d06a1790-b866-4ce5-b15c-9c76f6fb5947",
        "colab": {
          "base_uri": "https://localhost:8080/",
          "height": 545
        }
      },
      "source": [
        "import matplotlib.pyplot as plt\n",
        "acc = history.history['accuracy']\n",
        "loss = history.history['loss']\n",
        "\n",
        "epochs = range(len(acc))\n",
        "\n",
        "plt.plot(epochs, acc, 'b', label='Training accuracy')\n",
        "plt.title('Training accuracy')\n",
        "\n",
        "plt.figure()\n",
        "\n",
        "plt.plot(epochs, loss, 'b', label='Training Loss')\n",
        "plt.title('Training loss')\n",
        "plt.legend()\n",
        "\n",
        "plt.show()"
      ],
      "execution_count": 9,
      "outputs": [
        {
          "output_type": "display_data",
          "data": {
            "image/png": "[encoded data removed]",
            "text/plain": [
              "<Figure size 432x288 with 1 Axes>"
            ]
          },
          "metadata": {
            "needs_background": "light"
          }
        },
        {
          "output_type": "display_data",
          "data": {
            "image/png": "[encoded data removed]",
            "text/plain": [
              "<Figure size 432x288 with 1 Axes>"
            ]
          },
          "metadata": {
            "needs_background": "light"
          }
        }
      ]
    },
    {
      "cell_type": "code",
      "metadata": {
        "id": "6Vc6PHgxa6Hm",
        "outputId": "91439405-23f2-4c0a-b729-ab9633803b59",
        "colab": {
          "base_uri": "https://localhost:8080/"
        }
      },
      "source": [
        "seed_text = \"Help me Obi Wan Kenobi, you're my only hope\"\n",
        "next_words = 100\n",
        "  \n",
        "for _ in range(next_words):\n",
        "\ttoken_list = tokenizer.texts_to_sequences([seed_text])[0]\n",
        "\ttoken_list = pad_sequences([token_list], maxlen=max_sequence_len-1, padding='pre')\n",
        "\t#predicted = model.predict_classes(token_list, verbose=0)\n",
        "\tpredicted = model.predict(token_list)\n",
        "\tclasses_predicted = np.argmax(predicted,axis=1)\n",
        "\toutput_word = \"\"\n",
        "\tfor word, index in tokenizer.word_index.items():\n",
        "\t\tif index == classes_predicted:\n",
        "\t\t\toutput_word = word\n",
        "\t\t\tbreak\n",
        "\tseed_text += \" \" + output_word\n",
        "print(seed_text)"
      ],
      "execution_count": 11,
      "outputs": [
        {
          "output_type": "stream",
          "name": "stdout",
          "text": [
            "Help me Obi Wan Kenobi, you're my only hope it is it in this wrong leaves rage quite cost had warm'd bristly nought new dyed must be had crime bright age days must give brought and love shall aside go right ill ill and true ' ' are die live back releasing both true true muse tell me hate must write thus when thou heart those wrong dead asleep faith torn torn ' die live back bearing thy deeds a sun ' ' are bear his fine light light dyed lend heaven's deeds well strong skill quite deem'd rare deem'd had bright live quite crown'd so prove me prove\n"
          ]
        }
      ]
    }
  ]
}
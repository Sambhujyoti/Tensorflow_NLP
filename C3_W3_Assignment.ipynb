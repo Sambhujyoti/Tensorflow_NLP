{
  "nbformat": 4,
  "nbformat_minor": 0,
  "metadata": {
    "accelerator": "GPU",
    "colab": {
      "name": "C3_W3_Assignment.ipynb",
      "provenance": []
    },
    "kernelspec": {
      "display_name": "Python 3",
      "language": "python",
      "name": "python3"
    },
    "language_info": {
      "codemirror_mode": {
        "name": "ipython",
        "version": 3
      },
      "file_extension": ".py",
      "mimetype": "text/x-python",
      "name": "python",
      "nbconvert_exporter": "python",
      "pygments_lexer": "ipython3",
      "version": "3.8.5"
    }
  },
  "cells": [
    {
      "cell_type": "code",
      "metadata": {
        "id": "zX4Kg8DUTKWO"
      },
      "source": [
        "#@title Licensed under the Apache License, Version 2.0 (the \"License\");\n",
        "# you may not use this file except in compliance with the License.\n",
        "# You may obtain a copy of the License at\n",
        "#\n",
        "# https://www.apache.org/licenses/LICENSE-2.0\n",
        "#\n",
        "# Unless required by applicable law or agreed to in writing, software\n",
        "# distributed under the License is distributed on an \"AS IS\" BASIS,\n",
        "# WITHOUT WARRANTIES OR CONDITIONS OF ANY KIND, either express or implied.\n",
        "# See the License for the specific language governing permissions and\n",
        "# limitations under the License."
      ],
      "execution_count": 3,
      "outputs": []
    },
    {
      "cell_type": "markdown",
      "metadata": {
        "id": "gnU1TV9kV5f9"
      },
      "source": [
        "**Note:** This notebook can run using TensorFlow 2.5.0"
      ]
    },
    {
      "cell_type": "code",
      "metadata": {
        "id": "qTZDRvo5V5f9"
      },
      "source": [
        "#!pip install tensorflow==2.5.0"
      ],
      "execution_count": 5,
      "outputs": []
    },
    {
      "cell_type": "code",
      "metadata": {
        "id": "hmA6EzkQJ5jt"
      },
      "source": [
        "import json\n",
        "import tensorflow as tf\n",
        "import csv\n",
        "import random\n",
        "import numpy as np\n",
        "\n",
        "from tensorflow.keras.preprocessing.text import Tokenizer\n",
        "from tensorflow.keras.preprocessing.sequence import pad_sequences\n",
        "from tensorflow.keras.utils import to_categorical\n",
        "from tensorflow.keras import regularizers\n",
        "\n",
        "\n",
        "embedding_dim = 100\n",
        "max_length = 16\n",
        "trunc_type='post'\n",
        "padding_type='post'\n",
        "oov_tok = \"<OOV>\"\n",
        "training_size= 160000 #Your dataset size here. Experiment using smaller values (i.e. 16000), but don't forget to train on at least 160000 to see the best effects\n",
        "test_portion=.1\n",
        "\n",
        "corpus = []\n"
      ],
      "execution_count": 7,
      "outputs": []
    },
    {
      "cell_type": "code",
      "metadata": {
        "id": "bM0l_dORKqE0",
        "outputId": "200a17c1-1fe9-49ed-8050-5c67afcd8852",
        "colab": {
          "base_uri": "https://localhost:8080/"
        }
      },
      "source": [
        "# Note that I cleaned the Stanford dataset to remove LATIN1 encoding to make it easier for Python CSV reader\n",
        "# You can do that yourself with:\n",
        "# iconv -f LATIN1 -t UTF8 training.1600000.processed.noemoticon.csv -o training_cleaned.csv\n",
        "\n",
        "# training_cleaned.csv\n",
        "!gdown --id 1wd8KaeCSHxt-nEpMeuHFSNWrDp8joUXJ\n",
        "\n",
        "num_sentences = 0\n",
        "\n",
        "with open(\"./training_cleaned.csv\") as csvfile:\n",
        "    reader = csv.reader(csvfile, delimiter=',')\n",
        "    for row in reader:\n",
        "        list_item=[]\n",
        "        \n",
        "        ### START CODE HERE\n",
        "        list_item.append(row[5])\n",
        "        list_label = row[0]\n",
        "        if list_label == '0':\n",
        "          list_item.append(0)\n",
        "        else:\n",
        "          list_item.append(1)\n",
        "\n",
        "        #Create list items where the first item is the text, found in row[5], and the second is the label. Note that the label is a '0' or a '4' in the text. When it's the former, make\n",
        "        # your label to be 0, otherwise 1. Keep a count of the number of sentences in num_sentences\n",
        "        ### END CODE HERE\n",
        "        \n",
        "        num_sentences = num_sentences + 1\n",
        "        corpus.append(list_item)\n"
      ],
      "execution_count": 8,
      "outputs": [
        {
          "output_type": "stream",
          "name": "stdout",
          "text": [
            "Downloading...\n",
            "From: https://drive.google.com/uc?id=1wd8KaeCSHxt-nEpMeuHFSNWrDp8joUXJ\n",
            "To: /content/training_cleaned.csv\n",
            "100% 239M/239M [00:02<00:00, 119MB/s]\n"
          ]
        }
      ]
    },
    {
      "cell_type": "code",
      "metadata": {
        "id": "3kxblBUjEUX-",
        "outputId": "5f7f6238-2884-45e3-f5f2-001880dbaa7c",
        "colab": {
          "base_uri": "https://localhost:8080/"
        }
      },
      "source": [
        "print(num_sentences)\n",
        "print(len(corpus))\n",
        "print(corpus[1])\n",
        "\n",
        "# Expected Output:\n",
        "# 1600000\n",
        "# 1600000\n",
        "# [\"is upset that he can't update his Facebook by texting it... and might cry as a result  School today also. Blah!\", 0]"
      ],
      "execution_count": 9,
      "outputs": [
        {
          "output_type": "stream",
          "name": "stdout",
          "text": [
            "1600000\n",
            "1600000\n",
            "[\"is upset that he can't update his Facebook by texting it... and might cry as a result  School today also. Blah!\", 0]\n"
          ]
        }
      ]
    },
    {
      "cell_type": "code",
      "metadata": {
        "id": "ohOGz24lsNAD"
      },
      "source": [
        "sentences=[]\n",
        "labels=[]\n",
        "random.shuffle(corpus)\n",
        "for x in range(training_size):\n",
        "    sentences.append(corpus[x][0]) # YOUR CODE HERE)\n",
        "    labels.append(corpus[x][1]) # YOUR CODE HERE)\n",
        "\n",
        "\n",
        "tokenizer = Tokenizer()\n",
        "tokenizer.fit_on_texts(sentences) # YOUR CODE HERE)\n",
        "\n",
        "word_index = tokenizer.word_index\n",
        "vocab_size=len(word_index) # YOUR CODE HERE)\n",
        "\n",
        "sequences = tokenizer.texts_to_sequences(sentences) # YOUR CODE HERE)\n",
        "padded = pad_sequences(sequences, maxlen = max_length, padding= padding_type, truncating = trunc_type) # YOUR CODE HERE)\n",
        "\n",
        "split = int(test_portion * training_size)\n",
        "\n",
        "test_sequences = np.array(padded[0:split]) # YOUR CODE HERE]\n",
        "training_sequences = np.array(padded[split:training_size]) # YOUR CODE HERE]\n",
        "test_labels = np.array(labels[0:split]) # YOUR CODE HERE]\n",
        "training_labels = np.array(labels[split:training_size]) # YOUR CODE HERE]"
      ],
      "execution_count": 17,
      "outputs": []
    },
    {
      "cell_type": "code",
      "metadata": {
        "id": "gIrtRem1En3N",
        "outputId": "18c563b2-d2a4-4b4d-a219-682ff37dbbdb",
        "colab": {
          "base_uri": "https://localhost:8080/"
        }
      },
      "source": [
        "print(vocab_size)\n",
        "print(word_index['i'])\n",
        "# Expected Output\n",
        "# 138856\n",
        "# 1"
      ],
      "execution_count": 18,
      "outputs": [
        {
          "output_type": "stream",
          "name": "stdout",
          "text": [
            "138549\n",
            "1\n"
          ]
        }
      ]
    },
    {
      "cell_type": "code",
      "metadata": {
        "id": "C1zdgJkusRh0",
        "outputId": "dbd9e786-1618-4361-ad67-7f27e999e2ea",
        "colab": {
          "base_uri": "https://localhost:8080/"
        }
      },
      "source": [
        "# Note this is the 100 dimension version of GloVe from Stanford\n",
        "\n",
        "# glove.6B.100d.txt\n",
        "!gdown --id 1W5vZy2etitAblLdFn8_DxnsQKzfFJ98g\n",
        "\n",
        "embeddings_index = {};\n",
        "with open('./glove.6B.100d.txt') as f:\n",
        "    for line in f:\n",
        "        values = line.split();\n",
        "        word = values[0];\n",
        "        coefs = np.asarray(values[1:], dtype='float32');\n",
        "        embeddings_index[word] = coefs;\n",
        "\n",
        "embeddings_matrix = np.zeros((vocab_size+1, embedding_dim));\n",
        "for word, i in word_index.items():\n",
        "    embedding_vector = embeddings_index.get(word);\n",
        "    if embedding_vector is not None:\n",
        "        embeddings_matrix[i] = embedding_vector;"
      ],
      "execution_count": 19,
      "outputs": [
        {
          "output_type": "stream",
          "name": "stdout",
          "text": [
            "Downloading...\n",
            "From: https://drive.google.com/uc?id=1W5vZy2etitAblLdFn8_DxnsQKzfFJ98g\n",
            "To: /content/glove.6B.100d.txt\n",
            "100% 347M/347M [00:01<00:00, 197MB/s]\n"
          ]
        }
      ]
    },
    {
      "cell_type": "code",
      "metadata": {
        "id": "71NLk_lpFLNt",
        "outputId": "bfc494fc-c1dd-4708-a9a8-008e1a603afe",
        "colab": {
          "base_uri": "https://localhost:8080/"
        }
      },
      "source": [
        "print(len(embeddings_matrix))\n",
        "# Expected Output\n",
        "# 138857"
      ],
      "execution_count": 20,
      "outputs": [
        {
          "output_type": "stream",
          "name": "stdout",
          "text": [
            "138550\n"
          ]
        }
      ]
    },
    {
      "cell_type": "code",
      "metadata": {
        "id": "iKKvbuEBOGFz",
        "outputId": "860a623a-3aed-4cfd-982b-521d36f3f15b",
        "colab": {
          "base_uri": "https://localhost:8080/"
        }
      },
      "source": [
        "model = tf.keras.Sequential([\n",
        "    tf.keras.layers.Embedding(vocab_size+1, embedding_dim, input_length=max_length, weights=[embeddings_matrix], trainable=False),\n",
        "    tf.keras.layers.Dropout(0.2),\n",
        "    tf.keras.layers.Conv1D(64, 5, activation='relu'),\n",
        "    tf.keras.layers.MaxPooling1D(pool_size=4),\n",
        "    tf.keras.layers.GlobalAveragePooling1D(),\n",
        "    tf.keras.layers.Dense(128, activation='relu'),\n",
        "    tf.keras.layers.Dense(1, activation='sigmoid')\n",
        "    # YOUR CODE HERE - experiment with combining different types, such as convolutions and LSTMs\n",
        "])\n",
        "model.compile(loss='binary_crossentropy', optimizer='adam', metrics=['accuracy']) # YOUR CODE HERE)\n",
        "model.summary()\n",
        "\n",
        "num_epochs = 50\n",
        "history = model.fit(training_sequences, training_labels, epochs=num_epochs, validation_data=(test_sequences, test_labels), verbose=2)\n",
        "\n",
        "print(\"Training Complete\")\n"
      ],
      "execution_count": 21,
      "outputs": [
        {
          "output_type": "stream",
          "name": "stdout",
          "text": [
            "Model: \"sequential_2\"\n",
            "_________________________________________________________________\n",
            " Layer (type)                Output Shape              Param #   \n",
            "=================================================================\n",
            " embedding_2 (Embedding)     (None, 16, 100)           13855000  \n",
            "                                                                 \n",
            " dropout_2 (Dropout)         (None, 16, 100)           0         \n",
            "                                                                 \n",
            " conv1d_2 (Conv1D)           (None, 12, 64)            32064     \n",
            "                                                                 \n",
            " max_pooling1d_2 (MaxPooling  (None, 3, 64)            0         \n",
            " 1D)                                                             \n",
            "                                                                 \n",
            " global_average_pooling1d_2   (None, 64)               0         \n",
            " (GlobalAveragePooling1D)                                        \n",
            "                                                                 \n",
            " dense_4 (Dense)             (None, 128)               8320      \n",
            "                                                                 \n",
            " dense_5 (Dense)             (None, 1)                 129       \n",
            "                                                                 \n",
            "=================================================================\n",
            "Total params: 13,895,513\n",
            "Trainable params: 40,513\n",
            "Non-trainable params: 13,855,000\n",
            "_________________________________________________________________\n",
            "Epoch 1/50\n",
            "4500/4500 - 23s - loss: 0.5752 - accuracy: 0.6948 - val_loss: 0.5598 - val_accuracy: 0.7048 - 23s/epoch - 5ms/step\n",
            "Epoch 2/50\n",
            "4500/4500 - 11s - loss: 0.5369 - accuracy: 0.7238 - val_loss: 0.5335 - val_accuracy: 0.7212 - 11s/epoch - 3ms/step\n",
            "Epoch 3/50\n",
            "4500/4500 - 12s - loss: 0.5210 - accuracy: 0.7361 - val_loss: 0.5212 - val_accuracy: 0.7347 - 12s/epoch - 3ms/step\n",
            "Epoch 4/50\n",
            "4500/4500 - 12s - loss: 0.5102 - accuracy: 0.7428 - val_loss: 0.5199 - val_accuracy: 0.7384 - 12s/epoch - 3ms/step\n",
            "Epoch 5/50\n",
            "4500/4500 - 11s - loss: 0.5029 - accuracy: 0.7476 - val_loss: 0.5214 - val_accuracy: 0.7400 - 11s/epoch - 2ms/step\n",
            "Epoch 6/50\n",
            "4500/4500 - 12s - loss: 0.4971 - accuracy: 0.7514 - val_loss: 0.5168 - val_accuracy: 0.7415 - 12s/epoch - 3ms/step\n",
            "Epoch 7/50\n",
            "4500/4500 - 11s - loss: 0.4912 - accuracy: 0.7555 - val_loss: 0.5198 - val_accuracy: 0.7388 - 11s/epoch - 3ms/step\n",
            "Epoch 8/50\n",
            "4500/4500 - 11s - loss: 0.4871 - accuracy: 0.7583 - val_loss: 0.5133 - val_accuracy: 0.7419 - 11s/epoch - 2ms/step\n",
            "Epoch 9/50\n",
            "4500/4500 - 11s - loss: 0.4831 - accuracy: 0.7613 - val_loss: 0.5155 - val_accuracy: 0.7409 - 11s/epoch - 2ms/step\n",
            "Epoch 10/50\n",
            "4500/4500 - 11s - loss: 0.4798 - accuracy: 0.7638 - val_loss: 0.5151 - val_accuracy: 0.7394 - 11s/epoch - 2ms/step\n",
            "Epoch 11/50\n",
            "4500/4500 - 11s - loss: 0.4772 - accuracy: 0.7653 - val_loss: 0.5166 - val_accuracy: 0.7405 - 11s/epoch - 2ms/step\n",
            "Epoch 12/50\n",
            "4500/4500 - 11s - loss: 0.4744 - accuracy: 0.7668 - val_loss: 0.5199 - val_accuracy: 0.7406 - 11s/epoch - 2ms/step\n",
            "Epoch 13/50\n",
            "4500/4500 - 11s - loss: 0.4728 - accuracy: 0.7670 - val_loss: 0.5271 - val_accuracy: 0.7358 - 11s/epoch - 2ms/step\n",
            "Epoch 14/50\n",
            "4500/4500 - 11s - loss: 0.4707 - accuracy: 0.7692 - val_loss: 0.5178 - val_accuracy: 0.7429 - 11s/epoch - 2ms/step\n",
            "Epoch 15/50\n",
            "4500/4500 - 12s - loss: 0.4690 - accuracy: 0.7709 - val_loss: 0.5152 - val_accuracy: 0.7418 - 12s/epoch - 3ms/step\n",
            "Epoch 16/50\n",
            "4500/4500 - 11s - loss: 0.4664 - accuracy: 0.7717 - val_loss: 0.5232 - val_accuracy: 0.7411 - 11s/epoch - 3ms/step\n",
            "Epoch 17/50\n",
            "4500/4500 - 11s - loss: 0.4639 - accuracy: 0.7739 - val_loss: 0.5185 - val_accuracy: 0.7401 - 11s/epoch - 2ms/step\n",
            "Epoch 18/50\n",
            "4500/4500 - 11s - loss: 0.4624 - accuracy: 0.7752 - val_loss: 0.5203 - val_accuracy: 0.7424 - 11s/epoch - 2ms/step\n",
            "Epoch 19/50\n",
            "4500/4500 - 11s - loss: 0.4619 - accuracy: 0.7753 - val_loss: 0.5199 - val_accuracy: 0.7421 - 11s/epoch - 3ms/step\n",
            "Epoch 20/50\n",
            "4500/4500 - 11s - loss: 0.4590 - accuracy: 0.7771 - val_loss: 0.5218 - val_accuracy: 0.7401 - 11s/epoch - 2ms/step\n",
            "Epoch 21/50\n",
            "4500/4500 - 11s - loss: 0.4594 - accuracy: 0.7757 - val_loss: 0.5194 - val_accuracy: 0.7422 - 11s/epoch - 2ms/step\n",
            "Epoch 22/50\n",
            "4500/4500 - 12s - loss: 0.4578 - accuracy: 0.7771 - val_loss: 0.5210 - val_accuracy: 0.7439 - 12s/epoch - 3ms/step\n",
            "Epoch 23/50\n",
            "4500/4500 - 11s - loss: 0.4561 - accuracy: 0.7783 - val_loss: 0.5229 - val_accuracy: 0.7436 - 11s/epoch - 3ms/step\n",
            "Epoch 24/50\n",
            "4500/4500 - 11s - loss: 0.4555 - accuracy: 0.7790 - val_loss: 0.5210 - val_accuracy: 0.7408 - 11s/epoch - 2ms/step\n",
            "Epoch 25/50\n",
            "4500/4500 - 11s - loss: 0.4537 - accuracy: 0.7801 - val_loss: 0.5256 - val_accuracy: 0.7377 - 11s/epoch - 2ms/step\n",
            "Epoch 26/50\n",
            "4500/4500 - 11s - loss: 0.4529 - accuracy: 0.7803 - val_loss: 0.5263 - val_accuracy: 0.7424 - 11s/epoch - 2ms/step\n",
            "Epoch 27/50\n",
            "4500/4500 - 11s - loss: 0.4517 - accuracy: 0.7808 - val_loss: 0.5285 - val_accuracy: 0.7452 - 11s/epoch - 2ms/step\n",
            "Epoch 28/50\n",
            "4500/4500 - 11s - loss: 0.4508 - accuracy: 0.7811 - val_loss: 0.5309 - val_accuracy: 0.7405 - 11s/epoch - 2ms/step\n",
            "Epoch 29/50\n",
            "4500/4500 - 11s - loss: 0.4502 - accuracy: 0.7813 - val_loss: 0.5230 - val_accuracy: 0.7452 - 11s/epoch - 2ms/step\n",
            "Epoch 30/50\n",
            "4500/4500 - 11s - loss: 0.4498 - accuracy: 0.7828 - val_loss: 0.5274 - val_accuracy: 0.7424 - 11s/epoch - 2ms/step\n",
            "Epoch 31/50\n",
            "4500/4500 - 12s - loss: 0.4482 - accuracy: 0.7830 - val_loss: 0.5235 - val_accuracy: 0.7432 - 12s/epoch - 3ms/step\n",
            "Epoch 32/50\n",
            "4500/4500 - 11s - loss: 0.4473 - accuracy: 0.7845 - val_loss: 0.5249 - val_accuracy: 0.7411 - 11s/epoch - 2ms/step\n",
            "Epoch 33/50\n",
            "4500/4500 - 11s - loss: 0.4475 - accuracy: 0.7835 - val_loss: 0.5266 - val_accuracy: 0.7449 - 11s/epoch - 2ms/step\n",
            "Epoch 34/50\n",
            "4500/4500 - 11s - loss: 0.4460 - accuracy: 0.7851 - val_loss: 0.5309 - val_accuracy: 0.7406 - 11s/epoch - 3ms/step\n",
            "Epoch 35/50\n",
            "4500/4500 - 12s - loss: 0.4457 - accuracy: 0.7850 - val_loss: 0.5260 - val_accuracy: 0.7402 - 12s/epoch - 3ms/step\n",
            "Epoch 36/50\n",
            "4500/4500 - 11s - loss: 0.4441 - accuracy: 0.7847 - val_loss: 0.5325 - val_accuracy: 0.7409 - 11s/epoch - 2ms/step\n",
            "Epoch 37/50\n",
            "4500/4500 - 11s - loss: 0.4437 - accuracy: 0.7861 - val_loss: 0.5309 - val_accuracy: 0.7370 - 11s/epoch - 2ms/step\n",
            "Epoch 38/50\n",
            "4500/4500 - 11s - loss: 0.4437 - accuracy: 0.7865 - val_loss: 0.5315 - val_accuracy: 0.7391 - 11s/epoch - 3ms/step\n",
            "Epoch 39/50\n",
            "4500/4500 - 11s - loss: 0.4439 - accuracy: 0.7846 - val_loss: 0.5292 - val_accuracy: 0.7408 - 11s/epoch - 3ms/step\n",
            "Epoch 40/50\n",
            "4500/4500 - 11s - loss: 0.4416 - accuracy: 0.7871 - val_loss: 0.5284 - val_accuracy: 0.7411 - 11s/epoch - 3ms/step\n",
            "Epoch 41/50\n",
            "4500/4500 - 11s - loss: 0.4418 - accuracy: 0.7883 - val_loss: 0.5289 - val_accuracy: 0.7409 - 11s/epoch - 2ms/step\n",
            "Epoch 42/50\n",
            "4500/4500 - 11s - loss: 0.4435 - accuracy: 0.7861 - val_loss: 0.5276 - val_accuracy: 0.7431 - 11s/epoch - 2ms/step\n",
            "Epoch 43/50\n",
            "4500/4500 - 11s - loss: 0.4420 - accuracy: 0.7876 - val_loss: 0.5287 - val_accuracy: 0.7434 - 11s/epoch - 2ms/step\n",
            "Epoch 44/50\n",
            "4500/4500 - 11s - loss: 0.4408 - accuracy: 0.7879 - val_loss: 0.5333 - val_accuracy: 0.7390 - 11s/epoch - 2ms/step\n",
            "Epoch 45/50\n",
            "4500/4500 - 11s - loss: 0.4394 - accuracy: 0.7876 - val_loss: 0.5389 - val_accuracy: 0.7414 - 11s/epoch - 2ms/step\n",
            "Epoch 46/50\n",
            "4500/4500 - 10s - loss: 0.4394 - accuracy: 0.7889 - val_loss: 0.5343 - val_accuracy: 0.7395 - 10s/epoch - 2ms/step\n",
            "Epoch 47/50\n",
            "4500/4500 - 12s - loss: 0.4382 - accuracy: 0.7898 - val_loss: 0.5332 - val_accuracy: 0.7411 - 12s/epoch - 3ms/step\n",
            "Epoch 48/50\n",
            "4500/4500 - 11s - loss: 0.4373 - accuracy: 0.7892 - val_loss: 0.5268 - val_accuracy: 0.7408 - 11s/epoch - 2ms/step\n",
            "Epoch 49/50\n",
            "4500/4500 - 11s - loss: 0.4371 - accuracy: 0.7906 - val_loss: 0.5307 - val_accuracy: 0.7421 - 11s/epoch - 2ms/step\n",
            "Epoch 50/50\n",
            "4500/4500 - 11s - loss: 0.4380 - accuracy: 0.7890 - val_loss: 0.5362 - val_accuracy: 0.7409 - 11s/epoch - 2ms/step\n",
            "Training Complete\n"
          ]
        }
      ]
    },
    {
      "cell_type": "code",
      "metadata": {
        "id": "qxju4ItJKO8F",
        "outputId": "908f2940-df8a-4ea8-e699-fd625fdd41c5",
        "colab": {
          "base_uri": "https://localhost:8080/",
          "height": 607
        }
      },
      "source": [
        "import matplotlib.image  as mpimg\n",
        "import matplotlib.pyplot as plt\n",
        "\n",
        "#-----------------------------------------------------------\n",
        "# Retrieve a list of list results on training and test data\n",
        "# sets for each training epoch\n",
        "#-----------------------------------------------------------\n",
        "acc=history.history['accuracy']\n",
        "val_acc=history.history['val_accuracy']\n",
        "loss=history.history['loss']\n",
        "val_loss=history.history['val_loss']\n",
        "\n",
        "epochs=range(len(acc)) # Get number of epochs\n",
        "\n",
        "#------------------------------------------------\n",
        "# Plot training and validation accuracy per epoch\n",
        "#------------------------------------------------\n",
        "plt.plot(epochs, acc, 'r')\n",
        "plt.plot(epochs, val_acc, 'b')\n",
        "plt.title('Training and validation accuracy')\n",
        "plt.xlabel(\"Epochs\")\n",
        "plt.ylabel(\"Accuracy\")\n",
        "plt.legend([\"Accuracy\", \"Validation Accuracy\"])\n",
        "\n",
        "plt.figure()\n",
        "\n",
        "#------------------------------------------------\n",
        "# Plot training and validation loss per epoch\n",
        "#------------------------------------------------\n",
        "plt.plot(epochs, loss, 'r')\n",
        "plt.plot(epochs, val_loss, 'b')\n",
        "plt.title('Training and validation loss')\n",
        "plt.xlabel(\"Epochs\")\n",
        "plt.ylabel(\"Loss\")\n",
        "plt.legend([\"Loss\", \"Validation Loss\"])\n",
        "\n",
        "plt.figure()\n",
        "\n",
        "\n",
        "# Expected Output\n",
        "# A chart where the validation loss does not increase sharply!"
      ],
      "execution_count": 22,
      "outputs": [
        {
          "output_type": "execute_result",
          "data": {
            "text/plain": [
              "<Figure size 432x288 with 0 Axes>"
            ]
          },
          "metadata": {},
          "execution_count": 22
        },
        {
          "output_type": "display_data",
          "data": {
            "image/png": "[encoded data removed]",
            "text/plain": [
              "<Figure size 432x288 with 1 Axes>"
            ]
          },
          "metadata": {
            "needs_background": "light"
          }
        },
        {
          "output_type": "display_data",
          "data": {
            "image/png": "[encoded data removed]",
            "text/plain": [
              "<Figure size 432x288 with 1 Axes>"
            ]
          },
          "metadata": {
            "needs_background": "light"
          }
        },
        {
          "output_type": "display_data",
          "data": {
            "text/plain": [
              "<Figure size 432x288 with 0 Axes>"
            ]
          },
          "metadata": {}
        }
      ]
    }
  ]
}